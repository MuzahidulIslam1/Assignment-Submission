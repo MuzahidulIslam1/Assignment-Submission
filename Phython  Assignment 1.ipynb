{
 "cells": [
  {
   "cell_type": "markdown",
   "id": "a3bed472",
   "metadata": {},
   "source": [
    "# ASSIGNMENT 1"
   ]
  },
  {
   "cell_type": "markdown",
   "id": "875c25ac",
   "metadata": {},
   "source": [
    "### 1. In the below elements which of them are values or an expression? eg:- values can be integer or string and expressions will be mathematical operators.\n",
    "* \n",
    "'hello'\n",
    "-87.8\n",
    "- \n",
    "/ \n",
    "+\t\n",
    "6 \n"
   ]
  },
  {
   "cell_type": "markdown",
   "id": "61003ca9",
   "metadata": {},
   "source": [
    "'hello'=\"VALUE\"\n",
    "87.8=\"VALUE\"\n",
    "/=\"EXPRESSSION\"\n",
    "6=\"VALUE\""
   ]
  },
  {
   "cell_type": "markdown",
   "id": "f6359326",
   "metadata": {},
   "source": [
    "### 2. What is the difference between string and variable?\n"
   ]
  },
  {
   "cell_type": "markdown",
   "id": "a04157bf",
   "metadata": {},
   "source": [
    "Variables in programs are references to values that have types. String is simply one of the handful of types that Python uses along with various number types, collection types (list, string , tuple, dict, and set), objects and a few more.\n",
    "\n",
    "A variable is called that because the value it references can vary"
   ]
  },
  {
   "cell_type": "markdown",
   "id": "cdf5a6b2",
   "metadata": {},
   "source": [
    "### 3. Describe three different data types."
   ]
  },
  {
   "cell_type": "markdown",
   "id": "b53cdba9",
   "metadata": {},
   "source": [
    "List\n",
    "Python Lists are similar to arrays in C. However, the list can contain data of different types. The items stored in the list are separated with a comma (,) and enclosed within square brackets [].\n",
    "\n",
    "We can use slice [:] operators to access the data of the list. The concatenation operator (+) and repetition operator (*) works with the list in the same way as they were working with the strings.\n",
    "\n",
    "String\n",
    "The string can be defined as the sequence of characters represented in the quotation marks. In Python, we can use single, double, or triple quotes to define a string.\n",
    "\n",
    "String handling in Python is a straightforward task since Python provides built-in functions and operators to perform operations in the string.\n",
    "\n",
    "In the case of string handling, the operator + is used to concatenate two strings as the operation \"hello\"+\" python\" returns \"hello python\".\n",
    "\n",
    "Tuple\n",
    "A tuple is similar to the list in many ways. Like lists, tuples also contain the collection of the items of different data types. The items of the tuple are separated with a comma (,) and enclosed in parentheses ().\n",
    "\n",
    "A tuple is a read-only data structure as we can't modify the size and value of the items of a tuple.\n",
    "\n",
    "Let's see a simple example of the tuple."
   ]
  },
  {
   "cell_type": "markdown",
   "id": "5e9aac07",
   "metadata": {},
   "source": [
    "### 4. What is an expression made up of? What do all expressions do?\n"
   ]
  },
  {
   "cell_type": "markdown",
   "id": "d19dd001",
   "metadata": {},
   "source": [
    "An expression is a combination of operators and operands that is interpreted to produce some other value.\n",
    "Expressions  evaluates to a single value."
   ]
  },
  {
   "cell_type": "markdown",
   "id": "8030adaf",
   "metadata": {},
   "source": [
    " ###  5. This assignment statements, like spam = 10. What is the difference between an expression and a statement?"
   ]
  },
  {
   "cell_type": "markdown",
   "id": "806d9c39",
   "metadata": {},
   "source": [
    "Expression is made up of values, containers, and mathematical operators (operands) and the statement is just like a command that a python interpreter executes like print.22"
   ]
  },
  {
   "cell_type": "markdown",
   "id": "4406e9fd",
   "metadata": {},
   "source": [
    "###  6. After running the following code, what does the variable bacon contain?\n",
    "bacon = 22\n",
    "bacon + 1\n"
   ]
  },
  {
   "cell_type": "markdown",
   "id": "1dbc9457",
   "metadata": {},
   "source": [
    "ans= 23"
   ]
  },
  {
   "cell_type": "markdown",
   "id": "834f778c",
   "metadata": {},
   "source": [
    "###  7. What should the values of the following two terms be?\n",
    "'spam' + 'spamspam'\n",
    "'spam' * 3\n"
   ]
  },
  {
   "cell_type": "markdown",
   "id": "67158dfa",
   "metadata": {},
   "source": [
    "ans= 'spamspamspam'"
   ]
  },
  {
   "cell_type": "markdown",
   "id": "423db064",
   "metadata": {},
   "source": [
    "### 8. Why is eggs a valid variable name while 100 is invalid?\n"
   ]
  },
  {
   "cell_type": "markdown",
   "id": "a6a2482e",
   "metadata": {},
   "source": [
    "ans= variables cannot start with a number"
   ]
  },
  {
   "cell_type": "markdown",
   "id": "86ca0231",
   "metadata": {},
   "source": [
    "### .9. What three functions can be used to get the integer, floating-point number, or string version of a value?"
   ]
  },
  {
   "cell_type": "markdown",
   "id": "d0aa0091",
   "metadata": {},
   "source": [
    "ans= int(),float() and str()"
   ]
  },
  {
   "cell_type": "markdown",
   "id": "2a16e95b",
   "metadata": {},
   "source": [
    "### 10. Why does this expression cause an error? How can you fix it?\n",
    "'I have eaten ' + 99 + ' burritos.'\n"
   ]
  },
  {
   "cell_type": "markdown",
   "id": "8e362af9",
   "metadata": {},
   "source": [
    "ans= This expression cause an error because 99 is a numerber and not a string and in the above we are concatenating a string.\n",
    "    we can fix it by turning the number to a string using \" or '"
   ]
  },
  {
   "cell_type": "code",
   "execution_count": null,
   "id": "415a0dca",
   "metadata": {},
   "outputs": [],
   "source": []
  }
 ],
 "metadata": {
  "kernelspec": {
   "display_name": "Python 3 (ipykernel)",
   "language": "python",
   "name": "python3"
  },
  "language_info": {
   "codemirror_mode": {
    "name": "ipython",
    "version": 3
   },
   "file_extension": ".py",
   "mimetype": "text/x-python",
   "name": "python",
   "nbconvert_exporter": "python",
   "pygments_lexer": "ipython3",
   "version": "3.9.7"
  }
 },
 "nbformat": 4,
 "nbformat_minor": 5
}

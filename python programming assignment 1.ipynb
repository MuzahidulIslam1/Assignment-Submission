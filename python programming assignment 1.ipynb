{
 "cells": [
  {
   "cell_type": "markdown",
   "id": "af626e79",
   "metadata": {},
   "source": [
    "### 1.\tWrite a Python program to print \"Hello Python\"?"
   ]
  },
  {
   "cell_type": "code",
   "execution_count": 1,
   "id": "5d257d60",
   "metadata": {},
   "outputs": [
    {
     "name": "stdout",
     "output_type": "stream",
     "text": [
      "Hello Python\n"
     ]
    }
   ],
   "source": [
    "print(\"Hello Python\")"
   ]
  },
  {
   "cell_type": "markdown",
   "id": "7210d1af",
   "metadata": {},
   "source": [
    "### \n",
    "2.\tWrite a Python program to do arithmetical operations addition and division.?\n"
   ]
  },
  {
   "cell_type": "code",
   "execution_count": 11,
   "id": "a7a66288",
   "metadata": {},
   "outputs": [
    {
     "name": "stdout",
     "output_type": "stream",
     "text": [
      "Enter the first no:8\n",
      "Enter the second no:2\n",
      "The sum is: 10\n",
      "The result of division is: 4.0\n"
     ]
    }
   ],
   "source": [
    "number1=int(input(\"Enter the first no:\"))\n",
    "number2=int(input(\"Enter the second no:\"))\n",
    "add=number1+number2\n",
    "div=number1/number2\n",
    "print(\"The sum is:\",add)\n",
    "print(\"The result of division is:\",div)"
   ]
  },
  {
   "cell_type": "markdown",
   "id": "f384c44e",
   "metadata": {},
   "source": [
    "### 3.\tWrite a Python program to find the area of a triangle?"
   ]
  },
  {
   "cell_type": "code",
   "execution_count": 15,
   "id": "e9d67610",
   "metadata": {},
   "outputs": [
    {
     "name": "stdout",
     "output_type": "stream",
     "text": [
      "Enter the base of the triangle in cm:6.8\n",
      "Enter the height of the triangle in cm89\n",
      "The area is in sq cm: 302.59999999999997\n"
     ]
    }
   ],
   "source": [
    "base=float(input(\"Enter the base of the triangle in cm:\"))\n",
    "height=float(input(\"Enter the height of the triangle in cm\"))\n",
    "area= 1/2*base*height\n",
    "print(\"The area is in sq cm:\",area)"
   ]
  },
  {
   "cell_type": "markdown",
   "id": "d9939aeb",
   "metadata": {},
   "source": [
    "### 4.\tWrite a Python program to swap two variables?"
   ]
  },
  {
   "cell_type": "code",
   "execution_count": 20,
   "id": "db630a62",
   "metadata": {},
   "outputs": [
    {
     "name": "stdout",
     "output_type": "stream",
     "text": [
      "this is second variable\n",
      "this is first variable\n"
     ]
    }
   ],
   "source": [
    "a=\"this is first variable\"\n",
    "b=\"this is second variable\"\n",
    "a,b=b,a\n",
    "\n",
    "print(a)\n",
    "print(b)"
   ]
  },
  {
   "cell_type": "markdown",
   "id": "432bf82b",
   "metadata": {},
   "source": [
    "### 5.\tWrite a Python program to generate a random number?"
   ]
  },
  {
   "cell_type": "code",
   "execution_count": 22,
   "id": "44d8c033",
   "metadata": {},
   "outputs": [
    {
     "name": "stdout",
     "output_type": "stream",
     "text": [
      "0.8380207435880128\n"
     ]
    }
   ],
   "source": [
    "import random\n",
    "n= random.random()\n",
    "print(n)"
   ]
  },
  {
   "cell_type": "code",
   "execution_count": null,
   "id": "04914f57",
   "metadata": {},
   "outputs": [],
   "source": []
  }
 ],
 "metadata": {
  "kernelspec": {
   "display_name": "Python 3 (ipykernel)",
   "language": "python",
   "name": "python3"
  },
  "language_info": {
   "codemirror_mode": {
    "name": "ipython",
    "version": 3
   },
   "file_extension": ".py",
   "mimetype": "text/x-python",
   "name": "python",
   "nbconvert_exporter": "python",
   "pygments_lexer": "ipython3",
   "version": "3.9.7"
  }
 },
 "nbformat": 4,
 "nbformat_minor": 5
}
